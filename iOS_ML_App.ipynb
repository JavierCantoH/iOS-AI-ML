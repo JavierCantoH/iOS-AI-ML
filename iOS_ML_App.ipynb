{
  "nbformat": 4,
  "nbformat_minor": 0,
  "metadata": {
    "colab": {
      "provenance": []
    },
    "kernelspec": {
      "name": "python3",
      "display_name": "Python 3"
    },
    "language_info": {
      "name": "python"
    }
  },
  "cells": [
    {
      "cell_type": "markdown",
      "source": [
        "Loading data"
      ],
      "metadata": {
        "id": "0h2u86VR8oXj"
      }
    },
    {
      "cell_type": "code",
      "source": [
        "from keras.datasets import mnist\n",
        "\n",
        "(X_train, y_train), (X_test, y_test) = mnist.load_data()"
      ],
      "metadata": {
        "id": "LfhhwCOn8qmD"
      },
      "execution_count": null,
      "outputs": []
    },
    {
      "cell_type": "markdown",
      "source": [
        "Exploring data"
      ],
      "metadata": {
        "id": "tnC3o6728tyM"
      }
    },
    {
      "cell_type": "code",
      "source": [
        "print(f\"We have {len(X_train)} images in the training set and {len(X_test)} images in the test set.\")\n"
      ],
      "metadata": {
        "colab": {
          "base_uri": "https://localhost:8080/"
        },
        "id": "PVqOcPez8vIY",
        "outputId": "f31a9603-e5b6-4e44-8da1-b3fea2557c28"
      },
      "execution_count": null,
      "outputs": [
        {
          "output_type": "stream",
          "name": "stdout",
          "text": [
            "We have 60000 images in the training set and 10000 images in the test set.\n"
          ]
        }
      ]
    },
    {
      "cell_type": "markdown",
      "source": [
        "Shape the examples"
      ],
      "metadata": {
        "id": "KqykIr-D9AMJ"
      }
    },
    {
      "cell_type": "code",
      "source": [
        "# Let's see the first sample of the training set\n",
        "X_train[0].shape"
      ],
      "metadata": {
        "colab": {
          "base_uri": "https://localhost:8080/"
        },
        "id": "GCJf4WG-9DWv",
        "outputId": "7e027e29-d4e3-469a-dd2b-116826707337"
      },
      "execution_count": null,
      "outputs": [
        {
          "output_type": "execute_result",
          "data": {
            "text/plain": [
              "(28, 28)"
            ]
          },
          "metadata": {},
          "execution_count": 16
        }
      ]
    },
    {
      "cell_type": "markdown",
      "source": [
        "Visualizing the images"
      ],
      "metadata": {
        "id": "8ODh65KB9IBt"
      }
    },
    {
      "cell_type": "code",
      "source": [
        "import matplotlib.pyplot as plt\n",
        "plt.imshow(X_train[0])"
      ],
      "metadata": {
        "colab": {
          "base_uri": "https://localhost:8080/",
          "height": 448
        },
        "id": "OWRQb5eX9KpZ",
        "outputId": "e2ce0d6e-e556-4603-8cdc-2cf4ea875f2f"
      },
      "execution_count": null,
      "outputs": [
        {
          "output_type": "execute_result",
          "data": {
            "text/plain": [
              "<matplotlib.image.AxesImage at 0x7f10a0bc4100>"
            ]
          },
          "metadata": {},
          "execution_count": 17
        },
        {
          "output_type": "display_data",
          "data": {
            "text/plain": [
              "<Figure size 640x480 with 1 Axes>"
            ],
            "image/png": "[encoded data removed]"
          },
          "metadata": {}
        }
      ]
    },
    {
      "cell_type": "code",
      "source": [
        "# make it nicer\n",
        "plt.figure(figsize=(3, 3))\n",
        "plt.imshow(X_train[0], cmap=\"gray\")\n",
        "plt.title(y_train[0])\n",
        "plt.axis(False);"
      ],
      "metadata": {
        "colab": {
          "base_uri": "https://localhost:8080/",
          "height": 290
        },
        "id": "xX_31TQP9N24",
        "outputId": "80ff4208-5245-4fda-9fa8-a0a73e1c1d62"
      },
      "execution_count": null,
      "outputs": [
        {
          "output_type": "display_data",
          "data": {
            "text/plain": [
              "<Figure size 300x300 with 1 Axes>"
            ],
            "image/png": "[encoded data removed]"
          },
          "metadata": {}
        }
      ]
    },
    {
      "cell_type": "markdown",
      "source": [
        "Plot random picked images"
      ],
      "metadata": {
        "id": "EexLuUFE9R_c"
      }
    },
    {
      "cell_type": "code",
      "source": [
        "import random\n",
        "random_image = random.randint(0,  len(X_train))\n",
        "\n",
        "plt.figure(figsize=(3, 3))\n",
        "plt.imshow(X_train[random_image], cmap=\"gray\")\n",
        "\n",
        "plt.title(y_train[random_image])\n",
        "plt.axis(False);"
      ],
      "metadata": {
        "colab": {
          "base_uri": "https://localhost:8080/",
          "height": 290
        },
        "id": "EXYoEwNi9UQQ",
        "outputId": "ff74799d-39e0-473c-9faa-81843243c00b"
      },
      "execution_count": null,
      "outputs": [
        {
          "output_type": "display_data",
          "data": {
            "text/plain": [
              "<Figure size 300x300 with 1 Axes>"
            ],
            "image/png": "[encoded data removed]"
          },
          "metadata": {}
        }
      ]
    },
    {
      "cell_type": "markdown",
      "source": [
        "Processing the data"
      ],
      "metadata": {
        "id": "SXziG7XH9WXe"
      }
    },
    {
      "cell_type": "code",
      "source": [
        "X_train.shape"
      ],
      "metadata": {
        "colab": {
          "base_uri": "https://localhost:8080/"
        },
        "id": "fnP1Fq2Q9ZXn",
        "outputId": "c4220732-a596-4995-dc92-7ea86a9eb02e"
      },
      "execution_count": null,
      "outputs": [
        {
          "output_type": "execute_result",
          "data": {
            "text/plain": [
              "(60000, 28, 28)"
            ]
          },
          "metadata": {},
          "execution_count": 20
        }
      ]
    },
    {
      "cell_type": "markdown",
      "source": [
        "Reshape the data"
      ],
      "metadata": {
        "id": "nC3T7JZM9aCC"
      }
    },
    {
      "cell_type": "code",
      "source": [
        "X_train = X_train.reshape(X_train.shape + (1,))\n",
        "X_test = X_test.reshape(X_test.shape + (1, ))\n",
        "\n",
        "X_train.shape"
      ],
      "metadata": {
        "colab": {
          "base_uri": "https://localhost:8080/"
        },
        "id": "7PliDVOF9dti",
        "outputId": "3bf48f3f-c3d8-42d2-9507-0a254d47c28e"
      },
      "execution_count": null,
      "outputs": [
        {
          "output_type": "execute_result",
          "data": {
            "text/plain": [
              "(60000, 28, 28, 1)"
            ]
          },
          "metadata": {},
          "execution_count": 21
        }
      ]
    },
    {
      "cell_type": "markdown",
      "source": [
        "Normalize the train and test images"
      ],
      "metadata": {
        "id": "2c9rkHJ19f8t"
      }
    },
    {
      "cell_type": "code",
      "source": [
        "X_train = X_train / 255.\n",
        "X_test = X_test / 255."
      ],
      "metadata": {
        "id": "i7VyT8nJ9kdx"
      },
      "execution_count": null,
      "outputs": []
    },
    {
      "cell_type": "markdown",
      "source": [
        "Change datatype (float32 -> float65)"
      ],
      "metadata": {
        "id": "RdwPTV6d9nup"
      }
    },
    {
      "cell_type": "code",
      "source": [
        "import numpy as np\n",
        "X_train = X_train.astype(np.float32)\n",
        "X_test = X_test.astype(np.float32)"
      ],
      "metadata": {
        "id": "nZAwoTzD9riY"
      },
      "execution_count": null,
      "outputs": []
    },
    {
      "cell_type": "markdown",
      "source": [
        "Convolutional model using Keras Sequential API"
      ],
      "metadata": {
        "id": "7IcmkW-49wkx"
      }
    },
    {
      "cell_type": "code",
      "source": [
        "import tensorflow as tf\n",
        "from tensorflow.keras import layers\n",
        "\n",
        "model = tf.keras.Sequential([\n",
        "\tlayers.Conv2D(filters=10,\n",
        "\t\t\t\tkernel_size=3, \n",
        "\t\t\t\tactivation=\"relu\", \n",
        "\t\t\t\tinput_shape=(28,  28,  1)),\n",
        "\tlayers.Conv2D(10,  3, activation=\"relu\"),\n",
        "\tlayers.MaxPool2D(),\n",
        "\tlayers.Conv2D(10,  3, activation=\"relu\"),\n",
        "\tlayers.Conv2D(10,  3, activation=\"relu\"),\n",
        "\tlayers.MaxPool2D(),\n",
        "\tlayers.Flatten(),\n",
        "\tlayers.Dense(10, activation=\"softmax\")\n",
        "])"
      ],
      "metadata": {
        "id": "qN5x85B79xoi"
      },
      "execution_count": null,
      "outputs": []
    },
    {
      "cell_type": "markdown",
      "source": [
        "Summary of the model"
      ],
      "metadata": {
        "id": "B9SXvLsX90fU"
      }
    },
    {
      "cell_type": "code",
      "source": [
        "model.summary()"
      ],
      "metadata": {
        "colab": {
          "base_uri": "https://localhost:8080/"
        },
        "id": "BOFtJypU91qC",
        "outputId": "3c1e9c03-4981-4376-f51a-0a911c7924dd"
      },
      "execution_count": null,
      "outputs": [
        {
          "output_type": "stream",
          "name": "stdout",
          "text": [
            "Model: \"sequential\"\n",
            "_________________________________________________________________\n",
            " Layer (type)                Output Shape              Param #   \n",
            "=================================================================\n",
            " conv2d (Conv2D)             (None, 26, 26, 10)        100       \n",
            "                                                                 \n",
            " conv2d_1 (Conv2D)           (None, 24, 24, 10)        910       \n",
            "                                                                 \n",
            " max_pooling2d (MaxPooling2D  (None, 12, 12, 10)       0         \n",
            " )                                                               \n",
            "                                                                 \n",
            " conv2d_2 (Conv2D)           (None, 10, 10, 10)        910       \n",
            "                                                                 \n",
            " conv2d_3 (Conv2D)           (None, 8, 8, 10)          910       \n",
            "                                                                 \n",
            " max_pooling2d_1 (MaxPooling  (None, 4, 4, 10)         0         \n",
            " 2D)                                                             \n",
            "                                                                 \n",
            " flatten (Flatten)           (None, 160)               0         \n",
            "                                                                 \n",
            " dense (Dense)               (None, 10)                1610      \n",
            "                                                                 \n",
            "=================================================================\n",
            "Total params: 4,440\n",
            "Trainable params: 4,440\n",
            "Non-trainable params: 0\n",
            "_________________________________________________________________\n"
          ]
        }
      ]
    },
    {
      "cell_type": "markdown",
      "source": [
        "Compile the model"
      ],
      "metadata": {
        "id": "uKRWeWXR95C-"
      }
    },
    {
      "cell_type": "code",
      "source": [
        "model.compile(loss=\"sparse_categorical_crossentropy\", \n",
        "\t\t\toptimizer=tf.keras.optimizers.Adam(),\n",
        "\t\t\tmetrics=[\"accuracy\"])"
      ],
      "metadata": {
        "id": "xeoc-D0s96Kl"
      },
      "execution_count": null,
      "outputs": []
    },
    {
      "cell_type": "markdown",
      "source": [
        "Train the model"
      ],
      "metadata": {
        "id": "UD-25Y_K98HU"
      }
    },
    {
      "cell_type": "code",
      "source": [
        "model.fit(X_train, y_train, epochs=10)"
      ],
      "metadata": {
        "colab": {
          "base_uri": "https://localhost:8080/"
        },
        "id": "qhV5K8MA98_Z",
        "outputId": "054cc448-e484-4f46-e2d2-d649c0b319ef"
      },
      "execution_count": null,
      "outputs": [
        {
          "output_type": "stream",
          "name": "stdout",
          "text": [
            "Epoch 1/10\n",
            "1875/1875 [==============================] - 39s 20ms/step - loss: 0.2701 - accuracy: 0.9180\n",
            "Epoch 2/10\n",
            "1875/1875 [==============================] - 40s 21ms/step - loss: 0.0940 - accuracy: 0.9717\n",
            "Epoch 3/10\n",
            "1875/1875 [==============================] - 40s 21ms/step - loss: 0.0694 - accuracy: 0.9788\n",
            "Epoch 4/10\n",
            "1875/1875 [==============================] - 40s 21ms/step - loss: 0.0566 - accuracy: 0.9830\n",
            "Epoch 5/10\n",
            "1875/1875 [==============================] - 41s 22ms/step - loss: 0.0492 - accuracy: 0.9846\n",
            "Epoch 6/10\n",
            "1875/1875 [==============================] - 39s 21ms/step - loss: 0.0431 - accuracy: 0.9862\n",
            "Epoch 7/10\n",
            "1875/1875 [==============================] - 41s 22ms/step - loss: 0.0386 - accuracy: 0.9883\n",
            "Epoch 8/10\n",
            "1875/1875 [==============================] - 39s 21ms/step - loss: 0.0351 - accuracy: 0.9888\n",
            "Epoch 9/10\n",
            "1875/1875 [==============================] - 39s 21ms/step - loss: 0.0333 - accuracy: 0.9900\n",
            "Epoch 10/10\n",
            "1875/1875 [==============================] - 47s 25ms/step - loss: 0.0305 - accuracy: 0.9903\n"
          ]
        },
        {
          "output_type": "execute_result",
          "data": {
            "text/plain": [
              "<keras.callbacks.History at 0x7f109fd74eb0>"
            ]
          },
          "metadata": {},
          "execution_count": 27
        }
      ]
    },
    {
      "cell_type": "markdown",
      "source": [
        "Evaluate the mdoel"
      ],
      "metadata": {
        "id": "72VX5N6d9-ag"
      }
    },
    {
      "cell_type": "code",
      "source": [
        "model.evaluate(X_test, y_test)"
      ],
      "metadata": {
        "colab": {
          "base_uri": "https://localhost:8080/"
        },
        "id": "opGrxVXT-B9i",
        "outputId": "d134e335-d27b-4fc6-8267-2fb2f4e1b314"
      },
      "execution_count": null,
      "outputs": [
        {
          "output_type": "stream",
          "name": "stdout",
          "text": [
            "313/313 [==============================] - 2s 7ms/step - loss: 0.0388 - accuracy: 0.9881\n"
          ]
        },
        {
          "output_type": "execute_result",
          "data": {
            "text/plain": [
              "[0.03875613212585449, 0.988099992275238]"
            ]
          },
          "metadata": {},
          "execution_count": 28
        }
      ]
    },
    {
      "cell_type": "markdown",
      "source": [
        "Save model to use it later in the app"
      ],
      "metadata": {
        "id": "a5taWAO_-EyA"
      }
    },
    {
      "cell_type": "code",
      "source": [
        "from google.colab import drive\n",
        "drive.mount('/content/drive')\n",
        "\n",
        "file_path = '/content/drive/My Drive/Colab Notebooks/digit-recognizer.h5'\n",
        "\n",
        "model.save(file_path)"
      ],
      "metadata": {
        "colab": {
          "base_uri": "https://localhost:8080/",
          "height": 215
        },
        "id": "mxl8VveZ-Ggr",
        "outputId": "ed2f16a6-4fd5-4074-e4a4-c96f6ec67aa1"
      },
      "execution_count": null,
      "outputs": [
        {
          "output_type": "stream",
          "name": "stdout",
          "text": [
            "Mounted at /content/drive\n"
          ]
        },
        {
          "output_type": "error",
          "ename": "NameError",
          "evalue": "ignored",
          "traceback": [
            "\u001b[0;31m---------------------------------------------------------------------------\u001b[0m",
            "\u001b[0;31mNameError\u001b[0m                                 Traceback (most recent call last)",
            "\u001b[0;32m<ipython-input-1-1b6bd017bf7b>\u001b[0m in \u001b[0;36m<cell line: 6>\u001b[0;34m()\u001b[0m\n\u001b[1;32m      4\u001b[0m \u001b[0mfile_path\u001b[0m \u001b[0;34m=\u001b[0m \u001b[0;34m'/content/drive/My Drive/Colab Notebooks/digit-recognizer.h5'\u001b[0m\u001b[0;34m\u001b[0m\u001b[0;34m\u001b[0m\u001b[0m\n\u001b[1;32m      5\u001b[0m \u001b[0;34m\u001b[0m\u001b[0m\n\u001b[0;32m----> 6\u001b[0;31m \u001b[0mmodel\u001b[0m\u001b[0;34m.\u001b[0m\u001b[0msave\u001b[0m\u001b[0;34m(\u001b[0m\u001b[0mfile_path\u001b[0m\u001b[0;34m)\u001b[0m\u001b[0;34m\u001b[0m\u001b[0;34m\u001b[0m\u001b[0m\n\u001b[0m",
            "\u001b[0;31mNameError\u001b[0m: name 'model' is not defined"
          ]
        }
      ]
    }
  ]
}